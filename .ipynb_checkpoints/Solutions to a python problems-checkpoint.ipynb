{
 "cells": [
  {
   "cell_type": "code",
   "execution_count": 8,
   "id": "89afd5fe",
   "metadata": {},
   "outputs": [
    {
     "name": "stdout",
     "output_type": "stream",
     "text": [
      "Enter the three ages you want to compare:\"add different ages by adding comma\":23,34,56\n"
     ]
    }
   ],
   "source": [
    "ages = input('Enter the three ages you want to compare:\"add different ages by adding comma\":')"
   ]
  },
  {
   "cell_type": "code",
   "execution_count": 10,
   "id": "6f738463",
   "metadata": {},
   "outputs": [],
   "source": [
    "ages = ages.split(',')"
   ]
  },
  {
   "cell_type": "code",
   "execution_count": 11,
   "id": "92f71136",
   "metadata": {},
   "outputs": [],
   "source": [
    "ages"
   ]
  },
  {
   "cell_type": "code",
   "execution_count": null,
   "id": "f527ac06",
   "metadata": {},
   "outputs": [],
   "source": []
  }
 ],
 "metadata": {
  "kernelspec": {
   "display_name": "Python 3 (ipykernel)",
   "language": "python",
   "name": "python3"
  },
  "language_info": {
   "codemirror_mode": {
    "name": "ipython",
    "version": 3
   },
   "file_extension": ".py",
   "mimetype": "text/x-python",
   "name": "python",
   "nbconvert_exporter": "python",
   "pygments_lexer": "ipython3",
   "version": "3.10.9"
  }
 },
 "nbformat": 4,
 "nbformat_minor": 5
}
