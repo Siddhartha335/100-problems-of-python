{
 "cells": [
  {
   "cell_type": "markdown",
   "id": "08d9200d",
   "metadata": {},
   "source": [
    "# 1. Solution"
   ]
  },
  {
   "cell_type": "code",
   "execution_count": 12,
   "id": "89afd5fe",
   "metadata": {},
   "outputs": [
    {
     "name": "stdout",
     "output_type": "stream",
     "text": [
      "Enter the three ages you want to compare:\"add different ages by adding comma\":12,99,22\n"
     ]
    }
   ],
   "source": [
    "ages = input('Enter the three ages you want to compare:\"add different ages by adding comma\":')"
   ]
  },
  {
   "cell_type": "code",
   "execution_count": 13,
   "id": "6f738463",
   "metadata": {},
   "outputs": [],
   "source": [
    "ages = ages.split(',')"
   ]
  },
  {
   "cell_type": "code",
   "execution_count": 14,
   "id": "92f71136",
   "metadata": {},
   "outputs": [
    {
     "data": {
      "text/plain": [
       "['12', '99', '22']"
      ]
     },
     "execution_count": 14,
     "metadata": {},
     "output_type": "execute_result"
    }
   ],
   "source": [
    "ages"
   ]
  },
  {
   "cell_type": "code",
   "execution_count": 15,
   "id": "f527ac06",
   "metadata": {},
   "outputs": [],
   "source": [
    "ages = tuple(ages)"
   ]
  },
  {
   "cell_type": "code",
   "execution_count": 16,
   "id": "9c72b6f2",
   "metadata": {},
   "outputs": [
    {
     "data": {
      "text/plain": [
       "('12', '99', '22')"
      ]
     },
     "execution_count": 16,
     "metadata": {},
     "output_type": "execute_result"
    }
   ],
   "source": [
    "ages"
   ]
  },
  {
   "cell_type": "code",
   "execution_count": 17,
   "id": "8513a343",
   "metadata": {},
   "outputs": [],
   "source": [
    "num1,num2,num3 = ages"
   ]
  },
  {
   "cell_type": "code",
   "execution_count": 18,
   "id": "d34e74d8",
   "metadata": {},
   "outputs": [],
   "source": [
    "num1 = int(num1)\n",
    "num2 = int(num2)\n",
    "num3 = int(num3)"
   ]
  },
  {
   "cell_type": "code",
   "execution_count": 19,
   "id": "b2e02286",
   "metadata": {},
   "outputs": [
    {
     "name": "stdout",
     "output_type": "stream",
     "text": [
      "99 is largest\n"
     ]
    }
   ],
   "source": [
    "if num1>num2 and num1>num3:\n",
    "    print(f'{num1} is largest')\n",
    "elif num2>num1 and num2>num3:\n",
    "    print(f'{num2} is largest')\n",
    "else:\n",
    "    print(f'{num3} is largest')"
   ]
  },
  {
   "cell_type": "markdown",
   "id": "802982d3",
   "metadata": {},
   "source": [
    "# 2.Solution"
   ]
  },
  {
   "cell_type": "code",
   "execution_count": 20,
   "id": "753f83e8",
   "metadata": {},
   "outputs": [
    {
     "name": "stdout",
     "output_type": "stream",
     "text": [
      "Enter a value in celsius degree to convert:100\n"
     ]
    }
   ],
   "source": [
    "celsius = int(input(\"Enter a value in celsius degree to convert:\"))"
   ]
  },
  {
   "cell_type": "code",
   "execution_count": 22,
   "id": "a1987354",
   "metadata": {},
   "outputs": [
    {
     "name": "stdout",
     "output_type": "stream",
     "text": [
      "212\n"
     ]
    }
   ],
   "source": [
    "fahreneit = (9/5 * celsius) + 32\n",
    "print(int(fahreneit))"
   ]
  },
  {
   "cell_type": "markdown",
   "id": "d15ddce9",
   "metadata": {},
   "source": [
    "# 3.Solution"
   ]
  },
  {
   "cell_type": "code",
   "execution_count": 34,
   "id": "578ff82e",
   "metadata": {},
   "outputs": [
    {
     "name": "stdout",
     "output_type": "stream",
     "text": [
      "Enter a two numbers seperated by comma:34,56\n"
     ]
    }
   ],
   "source": [
    "numbers = input('Enter a two numbers seperated by comma:')"
   ]
  },
  {
   "cell_type": "code",
   "execution_count": 35,
   "id": "f2667dcd",
   "metadata": {},
   "outputs": [],
   "source": [
    "numbers = numbers.split(',')"
   ]
  },
  {
   "cell_type": "code",
   "execution_count": 36,
   "id": "d458048f",
   "metadata": {},
   "outputs": [],
   "source": [
    "num1,num2 = tuple(numbers)"
   ]
  },
  {
   "cell_type": "code",
   "execution_count": 37,
   "id": "c2721941",
   "metadata": {},
   "outputs": [],
   "source": [
    "num1 = int(num1)\n",
    "num2 = int(num2)"
   ]
  },
  {
   "cell_type": "code",
   "execution_count": 38,
   "id": "f90dae29",
   "metadata": {},
   "outputs": [],
   "source": [
    "temp = num1\n",
    "num1 = num2\n",
    "num2 = temp"
   ]
  },
  {
   "cell_type": "code",
   "execution_count": 39,
   "id": "a9498578",
   "metadata": {},
   "outputs": [
    {
     "data": {
      "text/plain": [
       "56"
      ]
     },
     "execution_count": 39,
     "metadata": {},
     "output_type": "execute_result"
    }
   ],
   "source": [
    "num1"
   ]
  },
  {
   "cell_type": "code",
   "execution_count": 40,
   "id": "832c18e4",
   "metadata": {},
   "outputs": [
    {
     "data": {
      "text/plain": [
       "34"
      ]
     },
     "execution_count": 40,
     "metadata": {},
     "output_type": "execute_result"
    }
   ],
   "source": [
    "num2"
   ]
  },
  {
   "cell_type": "markdown",
   "id": "dfe69562",
   "metadata": {},
   "source": [
    "# 4. Solution"
   ]
  },
  {
   "cell_type": "code",
   "execution_count": 47,
   "id": "a71f4eb6",
   "metadata": {},
   "outputs": [],
   "source": [
    "def sum(a,b,c):\n",
    "    sum_number = a+b+c\n",
    "    return sum_number"
   ]
  },
  {
   "cell_type": "code",
   "execution_count": 48,
   "id": "54154097",
   "metadata": {},
   "outputs": [
    {
     "name": "stdout",
     "output_type": "stream",
     "text": [
      "110\n"
     ]
    }
   ],
   "source": [
    "print(sum(20,45,45))"
   ]
  },
  {
   "cell_type": "markdown",
   "id": "4035729d",
   "metadata": {},
   "source": [
    "# 5. Solution"
   ]
  },
  {
   "cell_type": "code",
   "execution_count": 68,
   "id": "73121bd4",
   "metadata": {},
   "outputs": [
    {
     "name": "stdout",
     "output_type": "stream",
     "text": [
      "Enter a number:3532\n"
     ]
    }
   ],
   "source": [
    "num = int(input(\"Enter a number:\"))"
   ]
  },
  {
   "cell_type": "code",
   "execution_count": 69,
   "id": "5b939850",
   "metadata": {},
   "outputs": [],
   "source": [
    "reverse=0\n",
    "while num!=0:\n",
    "    rem = num%10\n",
    "    reverse = rem + reverse*10\n",
    "    num = num//10"
   ]
  },
  {
   "cell_type": "code",
   "execution_count": 70,
   "id": "5e3bad70",
   "metadata": {},
   "outputs": [
    {
     "name": "stdout",
     "output_type": "stream",
     "text": [
      "Reverse of a number is:2353\n"
     ]
    }
   ],
   "source": [
    "print(f'Reverse of a number is:{reverse}')"
   ]
  },
  {
   "cell_type": "markdown",
   "id": "9710817d",
   "metadata": {},
   "source": [
    "## 6. Solution"
   ]
  },
  {
   "cell_type": "code",
   "execution_count": 74,
   "id": "54cbdccb",
   "metadata": {},
   "outputs": [
    {
     "name": "stdout",
     "output_type": "stream",
     "text": [
      "Enter a number:45\n"
     ]
    }
   ],
   "source": [
    "num = int(input(\"Enter a number:\"))"
   ]
  },
  {
   "cell_type": "code",
   "execution_count": 75,
   "id": "033830d5",
   "metadata": {},
   "outputs": [
    {
     "name": "stdout",
     "output_type": "stream",
     "text": [
      "Odd\n"
     ]
    }
   ],
   "source": [
    "if num%2==0:\n",
    "    print('Even')\n",
    "else:\n",
    "    print('Odd')"
   ]
  },
  {
   "cell_type": "markdown",
   "id": "4c8af84d",
   "metadata": {},
   "source": [
    "### 7. Solution"
   ]
  },
  {
   "cell_type": "code",
   "execution_count": 83,
   "id": "3999911a",
   "metadata": {},
   "outputs": [],
   "source": [
    "import datetime\n",
    "\n",
    "years = datetime.datetime.today()\n",
    "years = years.year"
   ]
  },
  {
   "cell_type": "code",
   "execution_count": 86,
   "id": "ebe97d97",
   "metadata": {},
   "outputs": [],
   "source": [
    "years=400"
   ]
  },
  {
   "cell_type": "code",
   "execution_count": 88,
   "id": "a5e0a400",
   "metadata": {},
   "outputs": [
    {
     "name": "stdout",
     "output_type": "stream",
     "text": [
      "It is a leap year!\n"
     ]
    }
   ],
   "source": [
    "if years%4==0 and (years%100!=0 or years%400 ==0):\n",
    "    print('It is a leap year!')\n",
    "else:\n",
    "    print('It is not a leap year!')"
   ]
  },
  {
   "cell_type": "markdown",
   "id": "73bd471f",
   "metadata": {},
   "source": [
    "## 8. Solution"
   ]
  },
  {
   "cell_type": "code",
   "execution_count": 103,
   "id": "662af2c7",
   "metadata": {},
   "outputs": [
    {
     "name": "stdout",
     "output_type": "stream",
     "text": [
      "Enter the 2D-coordinates seperated by commas:23,45\n",
      "Enter the 2D-coordinates seperated by commas:45,67\n"
     ]
    }
   ],
   "source": [
    "first_cordinates = input('Enter the 2D-coordinates seperated by commas:')\n",
    "second_cordinates = input('Enter the 2D-coordinates seperated by commas:')"
   ]
  },
  {
   "cell_type": "code",
   "execution_count": 104,
   "id": "56406e46",
   "metadata": {},
   "outputs": [],
   "source": [
    "node1 = first_cordinates.split(',')\n",
    "node2 = second_cordinates.split(',')"
   ]
  },
  {
   "cell_type": "code",
   "execution_count": 105,
   "id": "9df3007a",
   "metadata": {},
   "outputs": [],
   "source": [
    "x1,y1 = node1\n",
    "x2,y2 = node2"
   ]
  },
  {
   "cell_type": "code",
   "execution_count": 106,
   "id": "dbd00c39",
   "metadata": {},
   "outputs": [],
   "source": [
    "x1 = int(x1)\n",
    "x2 = int(x2)\n",
    "y1 = int(y1)\n",
    "y2 = int(y2)"
   ]
  },
  {
   "cell_type": "code",
   "execution_count": 107,
   "id": "83cf5c9c",
   "metadata": {},
   "outputs": [],
   "source": [
    "import math"
   ]
  },
  {
   "cell_type": "code",
   "execution_count": 108,
   "id": "2db649aa",
   "metadata": {},
   "outputs": [],
   "source": [
    "euclidiean_distance = int(math.sqrt((x2-x1)*(x2-x1) + (y2-y1)*(y2-y1)))"
   ]
  },
  {
   "cell_type": "code",
   "execution_count": 109,
   "id": "4e33ec88",
   "metadata": {},
   "outputs": [
    {
     "data": {
      "text/plain": [
       "31"
      ]
     },
     "execution_count": 109,
     "metadata": {},
     "output_type": "execute_result"
    }
   ],
   "source": [
    "euclidiean_distance"
   ]
  },
  {
   "cell_type": "markdown",
   "id": "3856ef89",
   "metadata": {},
   "source": [
    "## 9. Solution"
   ]
  },
  {
   "cell_type": "code",
   "execution_count": 122,
   "id": "4435fd78",
   "metadata": {},
   "outputs": [
    {
     "name": "stdout",
     "output_type": "stream",
     "text": [
      "Enter a three numbers seperated by comma:60,60,60\n"
     ]
    }
   ],
   "source": [
    "numbers = input('Enter a three numbers seperated by comma:')"
   ]
  },
  {
   "cell_type": "code",
   "execution_count": 123,
   "id": "76467cb4",
   "metadata": {},
   "outputs": [],
   "source": [
    "numbers = numbers.split(',')"
   ]
  },
  {
   "cell_type": "code",
   "execution_count": 124,
   "id": "7b9602fb",
   "metadata": {},
   "outputs": [],
   "source": [
    "num1,num2,num3 = numbers"
   ]
  },
  {
   "cell_type": "code",
   "execution_count": 125,
   "id": "a149c31b",
   "metadata": {},
   "outputs": [],
   "source": [
    "num1 = int(num1)\n",
    "num2 = int(num2)\n",
    "num3 = int(num3)"
   ]
  },
  {
   "cell_type": "code",
   "execution_count": 127,
   "id": "b891f0d5",
   "metadata": {},
   "outputs": [
    {
     "name": "stdout",
     "output_type": "stream",
     "text": [
      "Triangles can be formed!\n"
     ]
    }
   ],
   "source": [
    "sum_num = num1+num2+num3\n",
    "if sum_num<=180:\n",
    "    print(\"Triangles can be formed!\")\n",
    "else:\n",
    "    print(\"Triangles can't be formed!\")"
   ]
  },
  {
   "cell_type": "markdown",
   "id": "a400f85b",
   "metadata": {},
   "source": [
    "# 10. Solution\n"
   ]
  },
  {
   "cell_type": "code",
   "execution_count": 138,
   "id": "101bc58c",
   "metadata": {},
   "outputs": [
    {
     "name": "stdout",
     "output_type": "stream",
     "text": [
      "Enter the cost price:200\n",
      "Enter the sell price:100\n"
     ]
    }
   ],
   "source": [
    "cost_price = int(input(\"Enter the cost price:\"))\n",
    "sell_price = int(input(\"Enter the sell price:\"))"
   ]
  },
  {
   "cell_type": "code",
   "execution_count": 139,
   "id": "c14d6ff3",
   "metadata": {},
   "outputs": [
    {
     "name": "stdout",
     "output_type": "stream",
     "text": [
      "Got loss\n"
     ]
    }
   ],
   "source": [
    "if sell_price>cost_price:\n",
    "    profit = sell_price - cost_price\n",
    "    print(f'Got profit of {profit}')\n",
    "elif sell_price<cost_price:\n",
    "    print(f\"Got loss\")\n",
    "else:\n",
    "    pass"
   ]
  },
  {
   "cell_type": "code",
   "execution_count": null,
   "id": "740b7b2a",
   "metadata": {},
   "outputs": [],
   "source": []
  }
 ],
 "metadata": {
  "kernelspec": {
   "display_name": "Python 3 (ipykernel)",
   "language": "python",
   "name": "python3"
  },
  "language_info": {
   "codemirror_mode": {
    "name": "ipython",
    "version": 3
   },
   "file_extension": ".py",
   "mimetype": "text/x-python",
   "name": "python",
   "nbconvert_exporter": "python",
   "pygments_lexer": "ipython3",
   "version": "3.10.9"
  }
 },
 "nbformat": 4,
 "nbformat_minor": 5
}
