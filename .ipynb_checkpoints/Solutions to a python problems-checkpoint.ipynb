{
 "cells": [
  {
   "cell_type": "markdown",
   "id": "08d9200d",
   "metadata": {},
   "source": [
    "# 1. Solution"
   ]
  },
  {
   "cell_type": "code",
   "execution_count": 12,
   "id": "89afd5fe",
   "metadata": {},
   "outputs": [
    {
     "name": "stdout",
     "output_type": "stream",
     "text": [
      "Enter the three ages you want to compare:\"add different ages by adding comma\":12,99,22\n"
     ]
    }
   ],
   "source": [
    "ages = input('Enter the three ages you want to compare:\"add different ages by adding comma\":')"
   ]
  },
  {
   "cell_type": "code",
   "execution_count": 13,
   "id": "6f738463",
   "metadata": {},
   "outputs": [],
   "source": [
    "ages = ages.split(',')"
   ]
  },
  {
   "cell_type": "code",
   "execution_count": 14,
   "id": "92f71136",
   "metadata": {},
   "outputs": [
    {
     "data": {
      "text/plain": [
       "['12', '99', '22']"
      ]
     },
     "execution_count": 14,
     "metadata": {},
     "output_type": "execute_result"
    }
   ],
   "source": [
    "ages"
   ]
  },
  {
   "cell_type": "code",
   "execution_count": 15,
   "id": "f527ac06",
   "metadata": {},
   "outputs": [],
   "source": [
    "ages = tuple(ages)"
   ]
  },
  {
   "cell_type": "code",
   "execution_count": 16,
   "id": "9c72b6f2",
   "metadata": {},
   "outputs": [
    {
     "data": {
      "text/plain": [
       "('12', '99', '22')"
      ]
     },
     "execution_count": 16,
     "metadata": {},
     "output_type": "execute_result"
    }
   ],
   "source": [
    "ages"
   ]
  },
  {
   "cell_type": "code",
   "execution_count": 17,
   "id": "8513a343",
   "metadata": {},
   "outputs": [],
   "source": [
    "num1,num2,num3 = ages"
   ]
  },
  {
   "cell_type": "code",
   "execution_count": 18,
   "id": "d34e74d8",
   "metadata": {},
   "outputs": [],
   "source": [
    "num1 = int(num1)\n",
    "num2 = int(num2)\n",
    "num3 = int(num3)"
   ]
  },
  {
   "cell_type": "code",
   "execution_count": 19,
   "id": "b2e02286",
   "metadata": {},
   "outputs": [
    {
     "name": "stdout",
     "output_type": "stream",
     "text": [
      "99 is largest\n"
     ]
    }
   ],
   "source": [
    "if num1>num2 and num1>num3:\n",
    "    print(f'{num1} is largest')\n",
    "elif num2>num1 and num2>num3:\n",
    "    print(f'{num2} is largest')\n",
    "else:\n",
    "    print(f'{num3} is largest')"
   ]
  },
  {
   "cell_type": "markdown",
   "id": "802982d3",
   "metadata": {},
   "source": [
    "# 2.Solution"
   ]
  },
  {
   "cell_type": "code",
   "execution_count": 20,
   "id": "753f83e8",
   "metadata": {},
   "outputs": [
    {
     "name": "stdout",
     "output_type": "stream",
     "text": [
      "Enter a value in celsius degree to convert:100\n"
     ]
    }
   ],
   "source": [
    "celsius = int(input(\"Enter a value in celsius degree to convert:\"))"
   ]
  },
  {
   "cell_type": "code",
   "execution_count": 22,
   "id": "a1987354",
   "metadata": {},
   "outputs": [
    {
     "name": "stdout",
     "output_type": "stream",
     "text": [
      "212\n"
     ]
    }
   ],
   "source": [
    "fahreneit = (9/5 * celsius) + 32\n",
    "print(int(fahreneit))"
   ]
  },
  {
   "cell_type": "markdown",
   "id": "d15ddce9",
   "metadata": {},
   "source": [
    "# 3.Solution"
   ]
  },
  {
   "cell_type": "code",
   "execution_count": 34,
   "id": "578ff82e",
   "metadata": {},
   "outputs": [
    {
     "name": "stdout",
     "output_type": "stream",
     "text": [
      "Enter a two numbers seperated by comma:34,56\n"
     ]
    }
   ],
   "source": [
    "numbers = input('Enter a two numbers seperated by comma:')"
   ]
  },
  {
   "cell_type": "code",
   "execution_count": 35,
   "id": "f2667dcd",
   "metadata": {},
   "outputs": [],
   "source": [
    "numbers = numbers.split(',')"
   ]
  },
  {
   "cell_type": "code",
   "execution_count": 36,
   "id": "d458048f",
   "metadata": {},
   "outputs": [],
   "source": [
    "num1,num2 = tuple(numbers)"
   ]
  },
  {
   "cell_type": "code",
   "execution_count": 37,
   "id": "c2721941",
   "metadata": {},
   "outputs": [],
   "source": [
    "num1 = int(num1)\n",
    "num2 = int(num2)"
   ]
  },
  {
   "cell_type": "code",
   "execution_count": 38,
   "id": "f90dae29",
   "metadata": {},
   "outputs": [],
   "source": [
    "temp = num1\n",
    "num1 = num2\n",
    "num2 = temp"
   ]
  },
  {
   "cell_type": "code",
   "execution_count": 39,
   "id": "a9498578",
   "metadata": {},
   "outputs": [
    {
     "data": {
      "text/plain": [
       "56"
      ]
     },
     "execution_count": 39,
     "metadata": {},
     "output_type": "execute_result"
    }
   ],
   "source": [
    "num1"
   ]
  },
  {
   "cell_type": "code",
   "execution_count": 40,
   "id": "832c18e4",
   "metadata": {},
   "outputs": [
    {
     "data": {
      "text/plain": [
       "34"
      ]
     },
     "execution_count": 40,
     "metadata": {},
     "output_type": "execute_result"
    }
   ],
   "source": [
    "num2"
   ]
  },
  {
   "cell_type": "markdown",
   "id": "dfe69562",
   "metadata": {},
   "source": [
    "# 4. Solution"
   ]
  },
  {
   "cell_type": "code",
   "execution_count": 47,
   "id": "a71f4eb6",
   "metadata": {},
   "outputs": [],
   "source": [
    "def sum(a,b,c):\n",
    "    sum_number = a+b+c\n",
    "    return sum_number"
   ]
  },
  {
   "cell_type": "code",
   "execution_count": 48,
   "id": "54154097",
   "metadata": {},
   "outputs": [
    {
     "name": "stdout",
     "output_type": "stream",
     "text": [
      "110\n"
     ]
    }
   ],
   "source": [
    "print(sum(20,45,45))"
   ]
  },
  {
   "cell_type": "markdown",
   "id": "4035729d",
   "metadata": {},
   "source": [
    "# 5. Solution"
   ]
  },
  {
   "cell_type": "code",
   "execution_count": 68,
   "id": "73121bd4",
   "metadata": {},
   "outputs": [
    {
     "name": "stdout",
     "output_type": "stream",
     "text": [
      "Enter a number:3532\n"
     ]
    }
   ],
   "source": [
    "num = int(input(\"Enter a number:\"))"
   ]
  },
  {
   "cell_type": "code",
   "execution_count": 69,
   "id": "5b939850",
   "metadata": {},
   "outputs": [],
   "source": [
    "reverse=0\n",
    "while num!=0:\n",
    "    rem = num%10\n",
    "    reverse = rem + reverse*10\n",
    "    num = num//10"
   ]
  },
  {
   "cell_type": "code",
   "execution_count": 70,
   "id": "5e3bad70",
   "metadata": {},
   "outputs": [
    {
     "name": "stdout",
     "output_type": "stream",
     "text": [
      "Reverse of a number is:2353\n"
     ]
    }
   ],
   "source": [
    "print(f'Reverse of a number is:{reverse}')"
   ]
  },
  {
   "cell_type": "markdown",
   "id": "9710817d",
   "metadata": {},
   "source": [
    "## 6. Solution"
   ]
  },
  {
   "cell_type": "code",
   "execution_count": 74,
   "id": "54cbdccb",
   "metadata": {},
   "outputs": [
    {
     "name": "stdout",
     "output_type": "stream",
     "text": [
      "Enter a number:45\n"
     ]
    }
   ],
   "source": [
    "num = int(input(\"Enter a number:\"))"
   ]
  },
  {
   "cell_type": "code",
   "execution_count": 75,
   "id": "033830d5",
   "metadata": {},
   "outputs": [
    {
     "name": "stdout",
     "output_type": "stream",
     "text": [
      "Odd\n"
     ]
    }
   ],
   "source": [
    "if num%2==0:\n",
    "    print('Even')\n",
    "else:\n",
    "    print('Odd')"
   ]
  },
  {
   "cell_type": "markdown",
   "id": "4c8af84d",
   "metadata": {},
   "source": [
    "### 7. Solution"
   ]
  },
  {
   "cell_type": "code",
   "execution_count": 83,
   "id": "3999911a",
   "metadata": {},
   "outputs": [],
   "source": [
    "import datetime\n",
    "\n",
    "years = datetime.datetime.today()\n",
    "years = years.year"
   ]
  },
  {
   "cell_type": "code",
   "execution_count": 86,
   "id": "ebe97d97",
   "metadata": {},
   "outputs": [],
   "source": [
    "years=400"
   ]
  },
  {
   "cell_type": "code",
   "execution_count": 88,
   "id": "a5e0a400",
   "metadata": {},
   "outputs": [
    {
     "name": "stdout",
     "output_type": "stream",
     "text": [
      "It is a leap year!\n"
     ]
    }
   ],
   "source": [
    "if years%4==0 and (years%100!=0 or years%400 ==0):\n",
    "    print('It is a leap year!')\n",
    "else:\n",
    "    print('It is not a leap year!')"
   ]
  },
  {
   "cell_type": "markdown",
   "id": "73bd471f",
   "metadata": {},
   "source": [
    "## 8. Solution"
   ]
  },
  {
   "cell_type": "code",
   "execution_count": 103,
   "id": "662af2c7",
   "metadata": {},
   "outputs": [
    {
     "name": "stdout",
     "output_type": "stream",
     "text": [
      "Enter the 2D-coordinates seperated by commas:23,45\n",
      "Enter the 2D-coordinates seperated by commas:45,67\n"
     ]
    }
   ],
   "source": [
    "first_cordinates = input('Enter the 2D-coordinates seperated by commas:')\n",
    "second_cordinates = input('Enter the 2D-coordinates seperated by commas:')"
   ]
  },
  {
   "cell_type": "code",
   "execution_count": 104,
   "id": "56406e46",
   "metadata": {},
   "outputs": [],
   "source": [
    "node1 = first_cordinates.split(',')\n",
    "node2 = second_cordinates.split(',')"
   ]
  },
  {
   "cell_type": "code",
   "execution_count": 105,
   "id": "9df3007a",
   "metadata": {},
   "outputs": [],
   "source": [
    "x1,y1 = node1\n",
    "x2,y2 = node2"
   ]
  },
  {
   "cell_type": "code",
   "execution_count": 106,
   "id": "dbd00c39",
   "metadata": {},
   "outputs": [],
   "source": [
    "x1 = int(x1)\n",
    "x2 = int(x2)\n",
    "y1 = int(y1)\n",
    "y2 = int(y2)"
   ]
  },
  {
   "cell_type": "code",
   "execution_count": 107,
   "id": "83cf5c9c",
   "metadata": {},
   "outputs": [],
   "source": [
    "import math"
   ]
  },
  {
   "cell_type": "code",
   "execution_count": 108,
   "id": "2db649aa",
   "metadata": {},
   "outputs": [],
   "source": [
    "euclidiean_distance = int(math.sqrt((x2-x1)*(x2-x1) + (y2-y1)*(y2-y1)))"
   ]
  },
  {
   "cell_type": "code",
   "execution_count": 109,
   "id": "4e33ec88",
   "metadata": {},
   "outputs": [
    {
     "data": {
      "text/plain": [
       "31"
      ]
     },
     "execution_count": 109,
     "metadata": {},
     "output_type": "execute_result"
    }
   ],
   "source": [
    "euclidiean_distance"
   ]
  },
  {
   "cell_type": "markdown",
   "id": "3856ef89",
   "metadata": {},
   "source": [
    "## 9. Solution"
   ]
  },
  {
   "cell_type": "code",
   "execution_count": 122,
   "id": "4435fd78",
   "metadata": {},
   "outputs": [
    {
     "name": "stdout",
     "output_type": "stream",
     "text": [
      "Enter a three numbers seperated by comma:60,60,60\n"
     ]
    }
   ],
   "source": [
    "numbers = input('Enter a three numbers seperated by comma:')"
   ]
  },
  {
   "cell_type": "code",
   "execution_count": 123,
   "id": "76467cb4",
   "metadata": {},
   "outputs": [],
   "source": [
    "numbers = numbers.split(',')"
   ]
  },
  {
   "cell_type": "code",
   "execution_count": 124,
   "id": "7b9602fb",
   "metadata": {},
   "outputs": [],
   "source": [
    "num1,num2,num3 = numbers"
   ]
  },
  {
   "cell_type": "code",
   "execution_count": 125,
   "id": "a149c31b",
   "metadata": {},
   "outputs": [],
   "source": [
    "num1 = int(num1)\n",
    "num2 = int(num2)\n",
    "num3 = int(num3)"
   ]
  },
  {
   "cell_type": "code",
   "execution_count": 127,
   "id": "b891f0d5",
   "metadata": {},
   "outputs": [
    {
     "name": "stdout",
     "output_type": "stream",
     "text": [
      "Triangles can be formed!\n"
     ]
    }
   ],
   "source": [
    "sum_num = num1+num2+num3\n",
    "if sum_num<=180:\n",
    "    print(\"Triangles can be formed!\")\n",
    "else:\n",
    "    print(\"Triangles can't be formed!\")"
   ]
  },
  {
   "cell_type": "markdown",
   "id": "a400f85b",
   "metadata": {},
   "source": [
    "# 10. Solution\n"
   ]
  },
  {
   "cell_type": "code",
   "execution_count": 138,
   "id": "101bc58c",
   "metadata": {},
   "outputs": [
    {
     "name": "stdout",
     "output_type": "stream",
     "text": [
      "Enter the cost price:200\n",
      "Enter the sell price:100\n"
     ]
    }
   ],
   "source": [
    "cost_price = int(input(\"Enter the cost price:\"))\n",
    "sell_price = int(input(\"Enter the sell price:\"))"
   ]
  },
  {
   "cell_type": "code",
   "execution_count": 139,
   "id": "c14d6ff3",
   "metadata": {},
   "outputs": [
    {
     "name": "stdout",
     "output_type": "stream",
     "text": [
      "Got loss\n"
     ]
    }
   ],
   "source": [
    "if sell_price>cost_price:\n",
    "    profit = sell_price - cost_price\n",
    "    print(f'Got profit of {profit}')\n",
    "elif sell_price<cost_price:\n",
    "    print(f\"Got loss\")\n",
    "else:\n",
    "    pass"
   ]
  },
  {
   "cell_type": "markdown",
   "id": "fa097c9f",
   "metadata": {},
   "source": [
    "## 11. Solution"
   ]
  },
  {
   "cell_type": "code",
   "execution_count": 1,
   "id": "834f807c",
   "metadata": {},
   "outputs": [
    {
     "name": "stdout",
     "output_type": "stream",
     "text": [
      "Enter the principal amount:500000\n",
      "Enter the rate percentage:11\n",
      "Enter the time in year:1\n"
     ]
    }
   ],
   "source": [
    "principal = int(input('Enter the principal amount:'))\n",
    "rate = int(input('Enter the rate percentage:'))\n",
    "time = int(input('Enter the time in year:'))"
   ]
  },
  {
   "cell_type": "code",
   "execution_count": 2,
   "id": "d77624b0",
   "metadata": {},
   "outputs": [],
   "source": [
    "simple_interest = (principal*time*rate)/100"
   ]
  },
  {
   "cell_type": "code",
   "execution_count": 3,
   "id": "014d0756",
   "metadata": {},
   "outputs": [
    {
     "name": "stdout",
     "output_type": "stream",
     "text": [
      "55000.0\n"
     ]
    }
   ],
   "source": [
    "print(simple_interest)"
   ]
  },
  {
   "cell_type": "markdown",
   "id": "88754118",
   "metadata": {},
   "source": [
    "# 12. Solution\n"
   ]
  },
  {
   "cell_type": "code",
   "execution_count": 5,
   "id": "df99c65d",
   "metadata": {},
   "outputs": [
    {
     "name": "stdout",
     "output_type": "stream",
     "text": [
      "Enter the radius:5\n",
      "Enter the height:10\n"
     ]
    }
   ],
   "source": [
    "radius = int(input(\"Enter the radius:\"))\n",
    "height = int(input(\"Enter the height:\"))"
   ]
  },
  {
   "cell_type": "code",
   "execution_count": 4,
   "id": "52b746bf",
   "metadata": {},
   "outputs": [],
   "source": [
    "import math"
   ]
  },
  {
   "cell_type": "code",
   "execution_count": 6,
   "id": "c8fb1640",
   "metadata": {},
   "outputs": [],
   "source": [
    "volume = math.pi * radius*radius*height"
   ]
  },
  {
   "cell_type": "code",
   "execution_count": 7,
   "id": "4769f26f",
   "metadata": {},
   "outputs": [
    {
     "name": "stdout",
     "output_type": "stream",
     "text": [
      "785.3981633974483\n"
     ]
    }
   ],
   "source": [
    "print(volume)"
   ]
  },
  {
   "cell_type": "markdown",
   "id": "8a24f604",
   "metadata": {},
   "source": [
    "## 13. Solution"
   ]
  },
  {
   "cell_type": "code",
   "execution_count": 8,
   "id": "d1982916",
   "metadata": {},
   "outputs": [],
   "source": [
    "def divisible_by_3(num):\n",
    "    if num%3==0 and num%6==0:\n",
    "        return f\"{num} is divisible by both 3 and 6\"\n",
    "    else:\n",
    "        return f\"{num} is not divisible by both 3 and 6\""
   ]
  },
  {
   "cell_type": "code",
   "execution_count": 11,
   "id": "4de0f132",
   "metadata": {},
   "outputs": [
    {
     "name": "stdout",
     "output_type": "stream",
     "text": [
      "66 is divisible by both 3 and 6\n"
     ]
    }
   ],
   "source": [
    "print(divisible_by_3(66))"
   ]
  },
  {
   "cell_type": "markdown",
   "id": "94404023",
   "metadata": {},
   "source": [
    "## 14. Solution"
   ]
  },
  {
   "cell_type": "markdown",
   "id": "de999099",
   "metadata": {},
   "source": [
    "## 16. Solution"
   ]
  },
  {
   "cell_type": "code",
   "execution_count": 13,
   "id": "89940bea",
   "metadata": {},
   "outputs": [
    {
     "name": "stdout",
     "output_type": "stream",
     "text": [
      "Enter the temperature:20\n",
      "Enter the humidity:100\n"
     ]
    }
   ],
   "source": [
    "tempr = int(input('Enter the temperature:'))\n",
    "humidity = int(input(\"Enter the humidity:\"))"
   ]
  },
  {
   "cell_type": "code",
   "execution_count": 14,
   "id": "e609c82b",
   "metadata": {},
   "outputs": [
    {
     "name": "stdout",
     "output_type": "stream",
     "text": [
      "Cool and Humid!\n"
     ]
    }
   ],
   "source": [
    "if tempr>=30 and humidity>=90:\n",
    "    print('Hot and Humid!')\n",
    "elif tempr>=30 and humidity<90:\n",
    "    print('Hot!')\n",
    "elif tempr<30 and humidity>=90:\n",
    "    print('Cool and Humid!')\n",
    "elif tempr<30 and humidity<90:\n",
    "    print('Cool!')"
   ]
  },
  {
   "cell_type": "markdown",
   "id": "0afabf81",
   "metadata": {},
   "source": [
    "## 17. Solution"
   ]
  },
  {
   "cell_type": "code",
   "execution_count": 17,
   "id": "a2dd3f46",
   "metadata": {},
   "outputs": [],
   "source": [
    "def square_of_numbers(a,b,c):\n",
    "    square_a = a*a\n",
    "    square_b = b*b\n",
    "    square_c = c*c\n",
    "    return square_a+square_b+square_c"
   ]
  },
  {
   "cell_type": "code",
   "execution_count": 19,
   "id": "0b89846c",
   "metadata": {},
   "outputs": [
    {
     "data": {
      "text/plain": [
       "38"
      ]
     },
     "execution_count": 19,
     "metadata": {},
     "output_type": "execute_result"
    }
   ],
   "source": [
    "square_of_numbers(2,3,5)"
   ]
  },
  {
   "cell_type": "markdown",
   "id": "08651d7f",
   "metadata": {},
   "source": [
    "# 18. Solution"
   ]
  },
  {
   "cell_type": "code",
   "execution_count": 81,
   "id": "a68e0549",
   "metadata": {},
   "outputs": [],
   "source": [
    "def armstrong(num):\n",
    "    s=0\n",
    "    while num!=0:\n",
    "        rem = num%10\n",
    "        s=s+(rem*rem*rem)\n",
    "        num = num//10\n",
    "        \n",
    "    if num==s:\n",
    "        print('It is Armstrong number!',s)\n",
    "    else:\n",
    "        print('It is not Armstrong number!',)"
   ]
  },
  {
   "cell_type": "code",
   "execution_count": 84,
   "id": "c6042a2f",
   "metadata": {},
   "outputs": [
    {
     "name": "stdout",
     "output_type": "stream",
     "text": [
      "It is not Armstrong number!\n"
     ]
    }
   ],
   "source": [
    "armstrong(371)"
   ]
  },
  {
   "cell_type": "markdown",
   "id": "e468315d",
   "metadata": {},
   "source": [
    "## 19. Solution"
   ]
  },
  {
   "cell_type": "code",
   "execution_count": 1,
   "id": "bd6d3b1a",
   "metadata": {},
   "outputs": [],
   "source": [
    "# A number is said to be Armstrong or Narcissistic Number if it is equal to\n",
    "# the sum of its own digits raised to the power of the number of digits in a given number.\n",
    "import math"
   ]
  },
  {
   "cell_type": "code",
   "execution_count": 6,
   "id": "555cc68c",
   "metadata": {},
   "outputs": [
    {
     "name": "stdout",
     "output_type": "stream",
     "text": [
      "Enter a number to check:153\n"
     ]
    }
   ],
   "source": [
    "num = int(input(\"Enter a number to check:\"))"
   ]
  },
  {
   "cell_type": "code",
   "execution_count": 7,
   "id": "3b546ea3",
   "metadata": {},
   "outputs": [
    {
     "name": "stdout",
     "output_type": "stream",
     "text": [
      "Narcisstic number!\n"
     ]
    }
   ],
   "source": [
    "import math\n",
    "digit = 0\n",
    "while num!=0:\n",
    "    digit+=1\n",
    "    num = num//10\n",
    "    \n",
    "sums=0\n",
    "while num!=0:\n",
    "    rem=num%10\n",
    "    sums = sums+math.pow(rem*digit)\n",
    "    num = num//10\n",
    "    \n",
    "if sums==num:\n",
    "    print('Narcisstic number!')\n",
    "else:\n",
    "    print('Not a narcisstic number!')"
   ]
  },
  {
   "cell_type": "markdown",
   "id": "e45e5af2",
   "metadata": {},
   "source": [
    "## 20. Solution"
   ]
  },
  {
   "cell_type": "code",
   "execution_count": 12,
   "id": "b30d8a07",
   "metadata": {},
   "outputs": [
    {
     "name": "stdout",
     "output_type": "stream",
     "text": [
      "Enter your salary in lakh:100000\n"
     ]
    }
   ],
   "source": [
    "salary = int(input(\"Enter your salary in lakh:\"))"
   ]
  },
  {
   "cell_type": "code",
   "execution_count": 13,
   "id": "7a7da28d",
   "metadata": {},
   "outputs": [
    {
     "name": "stdout",
     "output_type": "stream",
     "text": [
      "Your salary becomes 82000.0\n"
     ]
    }
   ],
   "source": [
    "if salary>=500000 and salary<=1000000:\n",
    "    hra = 0.1*salary\n",
    "    da = 0.05*salary\n",
    "    pf = 0.03*salary\n",
    "    tax =0.1*salary\n",
    "    salary = salary-hra-da-pf-tax\n",
    "    print(f\"Your salary becomes {salary}\")\n",
    "    \n",
    "elif salary>1100000 and salary<=2000000:\n",
    "    hra = 0.1*salary\n",
    "    da = 0.05*salary\n",
    "    pf = 0.03*salary\n",
    "    tax =0.2*salary\n",
    "    salary = salary-hra-da-pf-tax\n",
    "    print(f\"Your salary becomes {salary}\")\n",
    "    \n",
    "elif salary>=3000000:\n",
    "    hra = 0.1*salary\n",
    "    da = 0.05*salary\n",
    "    pf = 0.03*salary\n",
    "    tax =0.3*salary\n",
    "    salary = salary-hra-da-pf-tax\n",
    "    print(f\"Your salary becomes {salary}\")\n",
    "    \n",
    "elif salary>0 and salary<=100000:\n",
    "    hra = 0.1*salary\n",
    "    da = 0.05*salary\n",
    "    pf = 0.03*salary\n",
    "    salary = salary-hra-da-pf\n",
    "    print(f\"Your salary becomes {salary}\")"
   ]
  },
  {
   "cell_type": "markdown",
   "id": "ba6d1461",
   "metadata": {},
   "source": [
    "## 21. Solution"
   ]
  },
  {
   "cell_type": "code",
   "execution_count": 4,
   "id": "0804d71e",
   "metadata": {},
   "outputs": [],
   "source": [
    "def convert1(cm):\n",
    "    ft = cm/30.48\n",
    "    return ft\n",
    "\n",
    "def convert2(kl):\n",
    "    miles = kl/0.63\n",
    "    return miles\n",
    "\n",
    "def convert3(usd):\n",
    "    nep = usd*130\n",
    "    return nep"
   ]
  },
  {
   "cell_type": "code",
   "execution_count": 9,
   "id": "85310bad",
   "metadata": {},
   "outputs": [
    {
     "name": "stdout",
     "output_type": "stream",
     "text": [
      "\n",
      "        1.Cm to Ft\n",
      "        2.Kl to miles\n",
      "        3.Usd to Npr\n",
      "        4.Exit\n",
      "\n",
      "        \n",
      "Enter your choice:4\n",
      "Enter number to convert:2\n"
     ]
    }
   ],
   "source": [
    "convert = \"\"\"\n",
    "        1.Cm to Ft\n",
    "        2.Kl to miles\n",
    "        3.Usd to Npr\n",
    "        4.Exit\n",
    "\n",
    "        \"\"\"\n",
    "print(convert)\n",
    "while True:\n",
    "    choose = int(input('Enter your choice:'))\n",
    "    num = int(input('Enter number to convert:'))\n",
    "    if choose == 1:\n",
    "        print(convert1(num))\n",
    "    \n",
    "    elif choose==2:\n",
    "        print(convert2(num))\n",
    "        \n",
    "    elif choose==3:\n",
    "        print(convert3(num))\n",
    "        \n",
    "    elif choose==4:\n",
    "        exit()\n",
    "        break"
   ]
  },
  {
   "cell_type": "markdown",
   "id": "7bb862d1",
   "metadata": {},
   "source": [
    "## 22. Solution\n"
   ]
  },
  {
   "cell_type": "code",
   "execution_count": 2,
   "id": "25116828",
   "metadata": {},
   "outputs": [
    {
     "name": "stdout",
     "output_type": "stream",
     "text": [
      "Enter number of heads:5\n",
      "Enter number of legs:2\n",
      "This is chicken and there are 5 heads\n"
     ]
    }
   ],
   "source": [
    "head = int(input('Enter number of heads:'))\n",
    "leg = int(input('Enter number of legs:'))\n",
    "\n",
    "def number(h,l):\n",
    "    if l==2:\n",
    "        print('This is chicken and there are {} heads'.format(h))\n",
    "    elif l==4:\n",
    "        print('This is dog and there are {} heads'.format(h))\n",
    "    else:\n",
    "        pass\n",
    "    \n",
    "number(head,leg)"
   ]
  },
  {
   "cell_type": "markdown",
   "id": "75f19510",
   "metadata": {},
   "source": [
    "## 23. Solution"
   ]
  },
  {
   "cell_type": "code",
   "execution_count": 3,
   "id": "8f406dd6",
   "metadata": {},
   "outputs": [
    {
     "name": "stdout",
     "output_type": "stream",
     "text": [
      "5 4\n"
     ]
    }
   ],
   "source": [
    "def swap(a,b):\n",
    "    a,b = b,a\n",
    "    print(a,b)\n",
    "    \n",
    "swap(4,5)"
   ]
  },
  {
   "cell_type": "markdown",
   "id": "a5a1d6c1",
   "metadata": {},
   "source": [
    "## 24. Solution"
   ]
  },
  {
   "cell_type": "code",
   "execution_count": 8,
   "id": "9e29ca87",
   "metadata": {},
   "outputs": [],
   "source": [
    "def sum_of_numbers(n):\n",
    "    sums=0\n",
    "    i=1\n",
    "    while i<=n:\n",
    "        sums+=i\n",
    "        i+=1\n",
    "    print(f\"The sum of {n} is {sums}\")\n",
    "        "
   ]
  },
  {
   "cell_type": "code",
   "execution_count": 10,
   "id": "e7782e36",
   "metadata": {},
   "outputs": [
    {
     "name": "stdout",
     "output_type": "stream",
     "text": [
      "The sum of 10 is 55\n"
     ]
    }
   ],
   "source": [
    "sum_of_numbers(10)"
   ]
  },
  {
   "cell_type": "markdown",
   "id": "926b545a",
   "metadata": {},
   "source": [
    "## 25. Solution"
   ]
  },
  {
   "cell_type": "code",
   "execution_count": 11,
   "id": "89e529e1",
   "metadata": {},
   "outputs": [
    {
     "name": "stdout",
     "output_type": "stream",
     "text": [
      "Enter first num:10\n",
      "Enter second num:20\n"
     ]
    }
   ],
   "source": [
    "num1 = int(input('Enter first num:'))\n",
    "num2 = int(input('Enter second num:'))\n",
    "\n",
    "x = lambda a,b: a*b\n",
    " "
   ]
  },
  {
   "cell_type": "code",
   "execution_count": 13,
   "id": "0089557a",
   "metadata": {},
   "outputs": [
    {
     "data": {
      "text/plain": [
       "200"
      ]
     },
     "execution_count": 13,
     "metadata": {},
     "output_type": "execute_result"
    }
   ],
   "source": [
    "x(num1,num2)"
   ]
  },
  {
   "cell_type": "markdown",
   "id": "8f2c69bb",
   "metadata": {},
   "source": [
    "## 26. Solution"
   ]
  },
  {
   "cell_type": "code",
   "execution_count": 14,
   "id": "0f1efadf",
   "metadata": {},
   "outputs": [],
   "source": [
    "def fact(n):\n",
    "    facto=1\n",
    "    if n==0 or n==1:\n",
    "        return 1\n",
    "    else:\n",
    "        i=1\n",
    "        while i<=n:\n",
    "            facto *=i\n",
    "            i+=1\n",
    "        return facto\n"
   ]
  },
  {
   "cell_type": "code",
   "execution_count": 18,
   "id": "4aa7e88a",
   "metadata": {},
   "outputs": [
    {
     "data": {
      "text/plain": [
       "120"
      ]
     },
     "execution_count": 18,
     "metadata": {},
     "output_type": "execute_result"
    }
   ],
   "source": [
    "fact(5)"
   ]
  },
  {
   "cell_type": "markdown",
   "id": "73f6634d",
   "metadata": {},
   "source": [
    "## 27. Solution"
   ]
  },
  {
   "cell_type": "code",
   "execution_count": 27,
   "id": "3170b0e5",
   "metadata": {},
   "outputs": [
    {
     "name": "stdout",
     "output_type": "stream",
     "text": [
      "Odd numbers are:\n",
      "1 3 5 7 9 11 13 15 17 19 21 23 25 27 29 31 33 35 37 39 41 43 45 47 49 51 "
     ]
    }
   ],
   "source": [
    "print('Odd numbers are:')\n",
    "for i in range(0,52):\n",
    "    if i%2 !=0:\n",
    "        print(i,end=' ')"
   ]
  },
  {
   "cell_type": "markdown",
   "id": "a5c4912d",
   "metadata": {},
   "source": [
    "## 28. Solution"
   ]
  },
  {
   "cell_type": "code",
   "execution_count": 36,
   "id": "3578c57c",
   "metadata": {},
   "outputs": [],
   "source": [
    "def check_prime(num):\n",
    "    flag=False\n",
    "    for i in range(2,num+1):\n",
    "        if num%i==0:\n",
    "            flag=True\n",
    "            break\n",
    "            \n",
    "    if flag==True:\n",
    "        print(f\"{num} is not a prime number.\")\n",
    "    else:\n",
    "        print(f\"{num} is a prime number.\")"
   ]
  },
  {
   "cell_type": "code",
   "execution_count": 37,
   "id": "35be383f",
   "metadata": {},
   "outputs": [
    {
     "name": "stdout",
     "output_type": "stream",
     "text": [
      "25 is not a prime number.\n"
     ]
    }
   ],
   "source": [
    "check_prime(25)"
   ]
  },
  {
   "cell_type": "markdown",
   "id": "a0528e4e",
   "metadata": {},
   "source": [
    "## 29.Solution"
   ]
  },
  {
   "cell_type": "code",
   "execution_count": 60,
   "id": "f93f8aa7",
   "metadata": {},
   "outputs": [],
   "source": [
    "def prime(a,b):\n",
    "    for number in range(a,b+1):\n",
    "        if number==0 or number==1:\n",
    "            continue\n",
    "        for i in range(2,number):\n",
    "            if number%i==0:\n",
    "                break\n",
    "            else:\n",
    "                print(number, end=' ')\n",
    "                break\n",
    "            "
   ]
  },
  {
   "cell_type": "code",
   "execution_count": 61,
   "id": "6e0e9d47",
   "metadata": {},
   "outputs": [
    {
     "name": "stdout",
     "output_type": "stream",
     "text": [
      "3 5 7 9 11 13 15 17 19 "
     ]
    }
   ],
   "source": [
    "prime(0,20)"
   ]
  },
  {
   "cell_type": "markdown",
   "id": "7bfcf06c",
   "metadata": {},
   "source": [
    "## 30. Solution"
   ]
  },
  {
   "cell_type": "code",
   "execution_count": 86,
   "id": "1b2c4f4c",
   "metadata": {},
   "outputs": [],
   "source": [
    "def list_armstrong(a,b):\n",
    "    for i in range(a,b+1):\n",
    "        sums=0\n",
    "        while i!=0:\n",
    "            rem = i%10\n",
    "            sums = sums+(rem*rem*rem)\n",
    "            i = i//10\n",
    "        if sums==i:\n",
    "            print(i)"
   ]
  },
  {
   "cell_type": "markdown",
   "id": "c8a74cf5",
   "metadata": {},
   "source": [
    "## 31. Solution"
   ]
  },
  {
   "cell_type": "code",
   "execution_count": 22,
   "id": "3f5f82c7",
   "metadata": {},
   "outputs": [
    {
     "name": "stdout",
     "output_type": "stream",
     "text": [
      "1 2\n",
      "1 3\n",
      "1 4\n",
      "2 1\n",
      "2 3\n",
      "2 4\n",
      "3 1\n",
      "3 2\n",
      "3 4\n",
      "4 1\n",
      "4 2\n",
      "4 3\n"
     ]
    }
   ],
   "source": [
    "# import random\n",
    "\n",
    "# rand = random.randint(1,5)\n",
    "# rand2 = random.randint(1,5)\n",
    "# rand3 = random.randint(1,5)\n",
    "# rand4 = random.randint(1,5)\n",
    "\n",
    "# rand_list = [rand,rand2,rand3,rand4]\n",
    "\n",
    "# i=1\n",
    "# while i<=16:\n",
    "#     print(f\"{rand} {rand2} {rand3} {rand4}\")\n",
    "#     i+=1\n",
    "\n",
    "\n",
    "for i in range(1,5):\n",
    "    for j in range(1,5):\n",
    "        if i!=j:\n",
    "            print(i,j)"
   ]
  },
  {
   "cell_type": "markdown",
   "id": "a53bfc29",
   "metadata": {},
   "source": [
    "## 32. Solution"
   ]
  },
  {
   "cell_type": "code",
   "execution_count": 30,
   "id": "e10ab498",
   "metadata": {},
   "outputs": [
    {
     "name": "stdout",
     "output_type": "stream",
     "text": [
      "Enter first number:42\n",
      "Enter second number:3\n",
      "3\n"
     ]
    }
   ],
   "source": [
    "num1 = int(input('Enter first number:'))\n",
    "num2 = int(input('Enter second number:'))\n",
    "\n",
    "def hcf(n1,n2):\n",
    "    if n2==0:\n",
    "        return n1 \n",
    "    elif n2==1:\n",
    "        return 1\n",
    "    else:\n",
    "        return hcf(n2,n1%n2)\n",
    "    \n",
    "print(hcf(num1,num2))"
   ]
  },
  {
   "cell_type": "markdown",
   "id": "c3935c00",
   "metadata": {},
   "source": [
    "## 33. Solution"
   ]
  },
  {
   "cell_type": "code",
   "execution_count": 38,
   "id": "bac716bb",
   "metadata": {},
   "outputs": [
    {
     "name": "stdout",
     "output_type": "stream",
     "text": [
      "Enter first number:15\n",
      "Enter second number:12\n",
      "60\n"
     ]
    }
   ],
   "source": [
    "num1 = int(input('Enter first number:'))\n",
    "num2 = int(input('Enter second number:'))\n",
    "\n",
    "def lcm(n1,n2):\n",
    "    return (num1*num2)//hcf(n1,n2) \n",
    "            \n",
    "print(lcm(num1,num2))"
   ]
  },
  {
   "cell_type": "markdown",
   "id": "8d9a11aa",
   "metadata": {},
   "source": [
    "## 34. Solution"
   ]
  },
  {
   "cell_type": "code",
   "execution_count": 67,
   "id": "bb91decf",
   "metadata": {},
   "outputs": [],
   "source": [
    "def prime_num(a,b):\n",
    "    for number in range(a,b+1):\n",
    "        if number==0 or number==1:\n",
    "            continue\n",
    "        for i in range(2,number):\n",
    "            if number%i==0:\n",
    "                break\n",
    "            else:\n",
    "                print(number, end=' ')\n",
    "                break\n",
    "            "
   ]
  },
  {
   "cell_type": "code",
   "execution_count": 68,
   "id": "cb46db06",
   "metadata": {},
   "outputs": [
    {
     "name": "stdout",
     "output_type": "stream",
     "text": [
      "3 5 7 9 11 13 15 17 19 21 23 25 "
     ]
    }
   ],
   "source": [
    "prime_num(0,25)"
   ]
  },
  {
   "cell_type": "markdown",
   "id": "efcf1f6a",
   "metadata": {},
   "source": [
    "## 35. Solution"
   ]
  },
  {
   "cell_type": "code",
   "execution_count": 71,
   "id": "75b9e371",
   "metadata": {},
   "outputs": [],
   "source": [
    "def fib(num):\n",
    "    if num==0:\n",
    "        return 0\n",
    "    elif num==1:\n",
    "        return 1\n",
    "    else:\n",
    "        return fib(num-1)+fib(num-2)"
   ]
  },
  {
   "cell_type": "code",
   "execution_count": 73,
   "id": "63b001a8",
   "metadata": {},
   "outputs": [
    {
     "data": {
      "text/plain": [
       "8"
      ]
     },
     "execution_count": 73,
     "metadata": {},
     "output_type": "execute_result"
    }
   ],
   "source": [
    "fib(6)"
   ]
  },
  {
   "cell_type": "code",
   "execution_count": 80,
   "id": "06a740f9",
   "metadata": {},
   "outputs": [
    {
     "name": "stdout",
     "output_type": "stream",
     "text": [
      "0 1 Enter the range to find fibonaaci:5\n",
      "1 2 3 5 8 13 "
     ]
    }
   ],
   "source": [
    "t1,t2=0,1\n",
    "next_term = t1+t2\n",
    "print(t1,t2, end =' ')\n",
    "num = int(input(\"Enter the range to find fibonaaci:\"))\n",
    "for i in range(num+1):\n",
    "    print(next_term,end=' ')\n",
    "    t1=t2\n",
    "    t2=next_term\n",
    "    next_term = t1+t2\n",
    "    \n"
   ]
  },
  {
   "cell_type": "markdown",
   "id": "755f12b2",
   "metadata": {},
   "source": [
    "## 36. Solution"
   ]
  },
  {
   "cell_type": "code",
   "execution_count": 81,
   "id": "6215dd19",
   "metadata": {},
   "outputs": [],
   "source": [
    "import math\n",
    "def compound(principal,rate,time_n):\n",
    "    interest = principal * math.pow(1+(rate/100),time_n) - principal\n",
    "    return interest"
   ]
  },
  {
   "cell_type": "code",
   "execution_count": 82,
   "id": "3c3769ee",
   "metadata": {},
   "outputs": [
    {
     "name": "stdout",
     "output_type": "stream",
     "text": [
      "2321.000000000002\n"
     ]
    }
   ],
   "source": [
    "print(compound(10000,11,2))"
   ]
  },
  {
   "cell_type": "markdown",
   "id": "1dc84b16",
   "metadata": {},
   "source": [
    "## 37. Solution"
   ]
  },
  {
   "cell_type": "code",
   "execution_count": 89,
   "id": "00235cee",
   "metadata": {},
   "outputs": [],
   "source": [
    "def power_of_n(num):\n",
    "    for i in range(1,6):\n",
    "        print(f\"{num}+{num}*{num}+{num}*{num}*{num}\")"
   ]
  },
  {
   "cell_type": "code",
   "execution_count": 90,
   "id": "c3a3a87d",
   "metadata": {},
   "outputs": [
    {
     "name": "stdout",
     "output_type": "stream",
     "text": [
      "2+2*2+2*2*2\n",
      "2+2*2+2*2*2\n",
      "2+2*2+2*2*2\n",
      "2+2*2+2*2*2\n",
      "2+2*2+2*2*2\n"
     ]
    }
   ],
   "source": [
    "power_of_n(2)"
   ]
  },
  {
   "cell_type": "markdown",
   "id": "bf60aab0",
   "metadata": {},
   "source": [
    "## 38. Solution"
   ]
  },
  {
   "cell_type": "code",
   "execution_count": 94,
   "id": "e32797f3",
   "metadata": {},
   "outputs": [
    {
     "name": "stdout",
     "output_type": "stream",
     "text": [
      "Enter the number:1234\n",
      "1 2 3 4 "
     ]
    }
   ],
   "source": [
    "def no_of_digit(num):\n",
    "    for i in num:\n",
    "        print(i,end=\" \")\n",
    "        \n",
    "num = input(\"Enter the number:\")\n",
    "no_of_digit(num)"
   ]
  },
  {
   "cell_type": "markdown",
   "id": "3ce668d4",
   "metadata": {},
   "source": [
    "## 39. SOlution"
   ]
  },
  {
   "cell_type": "code",
   "execution_count": 99,
   "id": "adefaa0c",
   "metadata": {},
   "outputs": [],
   "source": [
    "def factors(num):\n",
    "    for i in range(1,num+1):\n",
    "        if num%i==0:\n",
    "            print(i,end=' ')"
   ]
  },
  {
   "cell_type": "code",
   "execution_count": 101,
   "id": "3f1ef572",
   "metadata": {},
   "outputs": [
    {
     "name": "stdout",
     "output_type": "stream",
     "text": [
      "1 7 "
     ]
    }
   ],
   "source": [
    "factors(7)"
   ]
  },
  {
   "cell_type": "markdown",
   "id": "cd18509c",
   "metadata": {},
   "source": [
    "## 40. Solution"
   ]
  },
  {
   "cell_type": "code",
   "execution_count": 5,
   "id": "3d6dc31a",
   "metadata": {},
   "outputs": [],
   "source": [
    "def reverse(num):\n",
    "    sums=0\n",
    "    while num!=0:\n",
    "        rem = num%10\n",
    "        sums = sums*10+rem\n",
    "        num = num//10\n",
    "    return sums"
   ]
  },
  {
   "cell_type": "code",
   "execution_count": 7,
   "id": "a0601a84",
   "metadata": {},
   "outputs": [
    {
     "name": "stdout",
     "output_type": "stream",
     "text": [
      "321\n"
     ]
    }
   ],
   "source": [
    "print(reverse(123))"
   ]
  },
  {
   "cell_type": "markdown",
   "id": "da746b21",
   "metadata": {},
   "source": [
    "## 41. Solution"
   ]
  },
  {
   "cell_type": "code",
   "execution_count": 10,
   "id": "96cfb9e2",
   "metadata": {},
   "outputs": [
    {
     "name": "stdout",
     "output_type": "stream",
     "text": [
      "*\n",
      "**\n",
      "***\n",
      "****\n",
      "*****\n"
     ]
    }
   ],
   "source": [
    "for i in range(1,6):\n",
    "    print(i*\"*\")"
   ]
  },
  {
   "cell_type": "code",
   "execution_count": 11,
   "id": "4197cb22",
   "metadata": {},
   "outputs": [
    {
     "name": "stdout",
     "output_type": "stream",
     "text": [
      "*\n",
      "**\n",
      "***\n",
      "**\n",
      "*\n"
     ]
    }
   ],
   "source": [
    "for i in range(1,6):\n",
    "    print(i*\"*\")\n",
    "    if i==3:\n",
    "        break\n",
    "j=2\n",
    "while j>0:\n",
    "    print(j*\"*\")\n",
    "    j-=1"
   ]
  },
  {
   "cell_type": "code",
   "execution_count": 33,
   "id": "5ed2000f",
   "metadata": {},
   "outputs": [
    {
     "name": "stdout",
     "output_type": "stream",
     "text": [
      "         * \r\n",
      "        * * \r\n",
      "       * * * \r\n",
      "      * * * * \r\n",
      "     * * * * * \r\n",
      "    * * * * * * \r\n",
      "   * * * * * * * \r\n",
      "  * * * * * * * * \r\n",
      " * * * * * * * * * \r\n",
      "* * * * * * * * * * \r\n"
     ]
    }
   ],
   "source": [
    "n=10\n",
    "k=n-1\n",
    "for i in range(0,n):\n",
    "    for j in range(0,k):\n",
    "        print(end=' ')\n",
    "    k-=1\n",
    "    for j in range(0,i+1):\n",
    "        print(\"* \", end='')\n",
    "    print('\\r')"
   ]
  },
  {
   "cell_type": "markdown",
   "id": "b2812611",
   "metadata": {},
   "source": [
    "## 44. Solution"
   ]
  },
  {
   "cell_type": "code",
   "execution_count": 53,
   "id": "a94f7d86",
   "metadata": {},
   "outputs": [
    {
     "name": "stdout",
     "output_type": "stream",
     "text": [
      "1 \r\n",
      "1 2 1 \r\n",
      "1 2 3 2 1 \r\n",
      "1 2 3 4 3 2 1 \r\n",
      "1 2 3 4 5 4 3 2 1 \r\n"
     ]
    }
   ],
   "source": [
    "for i in range(1,6):\n",
    "    for j in range(1,i+1):\n",
    "        print(j,end=' ')\n",
    "    for j in range(i-1,0,-1):\n",
    "        print(j, end=' ')\n",
    "    print(\"\\r\")"
   ]
  },
  {
   "cell_type": "markdown",
   "id": "19c37e5a",
   "metadata": {},
   "source": [
    "## 45. Solution"
   ]
  },
  {
   "cell_type": "code",
   "execution_count": 62,
   "id": "21ce3839",
   "metadata": {},
   "outputs": [
    {
     "name": "stdout",
     "output_type": "stream",
     "text": [
      "1 \r\n",
      "2 3 \r\n",
      "4 5 6 \r\n",
      "7 8 9 10 \r\n",
      "11 12 13 14 15 \r\n"
     ]
    }
   ],
   "source": [
    "num=1\n",
    "for i in range(1,6):\n",
    "    for j in range(1,i+1):\n",
    "        print(num,end=' ')\n",
    "        num+=1\n",
    "    print(\"\\r\")"
   ]
  },
  {
   "cell_type": "markdown",
   "id": "58a8879a",
   "metadata": {},
   "source": [
    "## 46. Solution"
   ]
  },
  {
   "cell_type": "code",
   "execution_count": 92,
   "id": "93ef8c06",
   "metadata": {},
   "outputs": [
    {
     "name": "stdout",
     "output_type": "stream",
     "text": [
      "Enter the nth term:5\n",
      "2.6666666666666665\n"
     ]
    }
   ],
   "source": [
    "def facto(n):\n",
    "    fact=1\n",
    "    for i in range(1,n+1):\n",
    "        fact*=i\n",
    "    return fact\n",
    "\n",
    "num = int(input(\"Enter the nth term:\"))\n",
    "\n",
    "i=1\n",
    "sums=0\n",
    "while i<num:\n",
    "    sums = sums + i/facto(i)\n",
    "    i+=1\n",
    "print(sums)"
   ]
  },
  {
   "cell_type": "code",
   "execution_count": null,
   "id": "38bd7d31",
   "metadata": {},
   "outputs": [],
   "source": []
  }
 ],
 "metadata": {
  "kernelspec": {
   "display_name": "Python 3 (ipykernel)",
   "language": "python",
   "name": "python3"
  },
  "language_info": {
   "codemirror_mode": {
    "name": "ipython",
    "version": 3
   },
   "file_extension": ".py",
   "mimetype": "text/x-python",
   "name": "python",
   "nbconvert_exporter": "python",
   "pygments_lexer": "ipython3",
   "version": "3.10.9"
  }
 },
 "nbformat": 4,
 "nbformat_minor": 5
}
