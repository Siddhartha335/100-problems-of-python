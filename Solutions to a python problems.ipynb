{
 "cells": [
  {
   "cell_type": "markdown",
   "id": "21723e79",
   "metadata": {},
   "source": [
    "# 1. Solution"
   ]
  },
  {
   "cell_type": "code",
   "execution_count": 12,
   "id": "89afd5fe",
   "metadata": {},
   "outputs": [
    {
     "name": "stdout",
     "output_type": "stream",
     "text": [
      "Enter the three ages you want to compare:\"add different ages by adding comma\":12,99,22\n"
     ]
    }
   ],
   "source": [
    "ages = input('Enter the three ages you want to compare:\"add different ages by adding comma\":')"
   ]
  },
  {
   "cell_type": "code",
   "execution_count": 13,
   "id": "6f738463",
   "metadata": {},
   "outputs": [],
   "source": [
    "ages = ages.split(',')"
   ]
  },
  {
   "cell_type": "code",
   "execution_count": 14,
   "id": "92f71136",
   "metadata": {},
   "outputs": [
    {
     "data": {
      "text/plain": [
       "['12', '99', '22']"
      ]
     },
     "execution_count": 14,
     "metadata": {},
     "output_type": "execute_result"
    }
   ],
   "source": [
    "ages"
   ]
  },
  {
   "cell_type": "code",
   "execution_count": 15,
   "id": "f527ac06",
   "metadata": {},
   "outputs": [],
   "source": [
    "ages = tuple(ages)"
   ]
  },
  {
   "cell_type": "code",
   "execution_count": 16,
   "id": "a387cb76",
   "metadata": {},
   "outputs": [
    {
     "data": {
      "text/plain": [
       "('12', '99', '22')"
      ]
     },
     "execution_count": 16,
     "metadata": {},
     "output_type": "execute_result"
    }
   ],
   "source": [
    "ages"
   ]
  },
  {
   "cell_type": "code",
   "execution_count": 17,
   "id": "143f3185",
   "metadata": {},
   "outputs": [],
   "source": [
    "num1,num2,num3 = ages"
   ]
  },
  {
   "cell_type": "code",
   "execution_count": 18,
   "id": "62aed8c8",
   "metadata": {},
   "outputs": [],
   "source": [
    "num1 = int(num1)\n",
    "num2 = int(num2)\n",
    "num3 = int(num3)"
   ]
  },
  {
   "cell_type": "code",
   "execution_count": 19,
   "id": "44a7b2d1",
   "metadata": {},
   "outputs": [
    {
     "name": "stdout",
     "output_type": "stream",
     "text": [
      "99 is largest\n"
     ]
    }
   ],
   "source": [
    "if num1>num2 and num1>num3:\n",
    "    print(f'{num1} is largest')\n",
    "elif num2>num1 and num2>num3:\n",
    "    print(f'{num2} is largest')\n",
    "else:\n",
    "    print(f'{num3} is largest')"
   ]
  },
  {
   "cell_type": "markdown",
   "id": "faa69097",
   "metadata": {},
   "source": [
    "# 2.Solution"
   ]
  },
  {
   "cell_type": "code",
   "execution_count": 20,
   "id": "f8e0ff35",
   "metadata": {},
   "outputs": [
    {
     "name": "stdout",
     "output_type": "stream",
     "text": [
      "Enter a value in celsius degree to convert:100\n"
     ]
    }
   ],
   "source": [
    "celsius = int(input(\"Enter a value in celsius degree to convert:\"))"
   ]
  },
  {
   "cell_type": "code",
   "execution_count": 22,
   "id": "b08e7aca",
   "metadata": {},
   "outputs": [
    {
     "name": "stdout",
     "output_type": "stream",
     "text": [
      "212\n"
     ]
    }
   ],
   "source": [
    "fahreneit = (9/5 * celsius) + 32\n",
    "print(int(fahreneit))"
   ]
  },
  {
   "cell_type": "markdown",
   "id": "dcf8ddec",
   "metadata": {},
   "source": [
    "# 3.Solution"
   ]
  },
  {
   "cell_type": "code",
   "execution_count": 34,
   "id": "e44641f2",
   "metadata": {},
   "outputs": [
    {
     "name": "stdout",
     "output_type": "stream",
     "text": [
      "Enter a two numbers seperated by comma:34,56\n"
     ]
    }
   ],
   "source": [
    "numbers = input('Enter a two numbers seperated by comma:')"
   ]
  },
  {
   "cell_type": "code",
   "execution_count": 35,
   "id": "17428ebb",
   "metadata": {},
   "outputs": [],
   "source": [
    "numbers = numbers.split(',')"
   ]
  },
  {
   "cell_type": "code",
   "execution_count": 36,
   "id": "99dd606c",
   "metadata": {},
   "outputs": [],
   "source": [
    "num1,num2 = tuple(numbers)"
   ]
  },
  {
   "cell_type": "code",
   "execution_count": 37,
   "id": "992a6e4a",
   "metadata": {},
   "outputs": [],
   "source": [
    "num1 = int(num1)\n",
    "num2 = int(num2)"
   ]
  },
  {
   "cell_type": "code",
   "execution_count": 38,
   "id": "6fa40561",
   "metadata": {},
   "outputs": [],
   "source": [
    "temp = num1\n",
    "num1 = num2\n",
    "num2 = temp"
   ]
  },
  {
   "cell_type": "code",
   "execution_count": 39,
   "id": "9495967b",
   "metadata": {},
   "outputs": [
    {
     "data": {
      "text/plain": [
       "56"
      ]
     },
     "execution_count": 39,
     "metadata": {},
     "output_type": "execute_result"
    }
   ],
   "source": [
    "num1"
   ]
  },
  {
   "cell_type": "code",
   "execution_count": 40,
   "id": "4cc9e3cd",
   "metadata": {},
   "outputs": [
    {
     "data": {
      "text/plain": [
       "34"
      ]
     },
     "execution_count": 40,
     "metadata": {},
     "output_type": "execute_result"
    }
   ],
   "source": [
    "num2"
   ]
  },
  {
   "cell_type": "markdown",
   "id": "b53ea9b8",
   "metadata": {},
   "source": [
    "# 4. Solution"
   ]
  },
  {
   "cell_type": "code",
   "execution_count": 47,
   "id": "319559b9",
   "metadata": {},
   "outputs": [],
   "source": [
    "def sum(a,b,c):\n",
    "    sum_number = a+b+c\n",
    "    return sum_number"
   ]
  },
  {
   "cell_type": "code",
   "execution_count": 48,
   "id": "bff2a816",
   "metadata": {},
   "outputs": [
    {
     "name": "stdout",
     "output_type": "stream",
     "text": [
      "110\n"
     ]
    }
   ],
   "source": [
    "print(sum(20,45,45))"
   ]
  },
  {
   "cell_type": "markdown",
   "id": "cd2c660d",
   "metadata": {},
   "source": [
    "# 5. Solution"
   ]
  },
  {
   "cell_type": "code",
   "execution_count": 68,
   "id": "68d42aef",
   "metadata": {},
   "outputs": [
    {
     "name": "stdout",
     "output_type": "stream",
     "text": [
      "Enter a number:3532\n"
     ]
    }
   ],
   "source": [
    "num = int(input(\"Enter a number:\"))"
   ]
  },
  {
   "cell_type": "code",
   "execution_count": 69,
   "id": "3ac34b46",
   "metadata": {},
   "outputs": [],
   "source": [
    "reverse=0\n",
    "while num!=0:\n",
    "    rem = num%10\n",
    "    reverse = rem + reverse*10\n",
    "    num = num//10"
   ]
  },
  {
   "cell_type": "code",
   "execution_count": 70,
   "id": "547fd804",
   "metadata": {},
   "outputs": [
    {
     "name": "stdout",
     "output_type": "stream",
     "text": [
      "Reverse of a number is:2353\n"
     ]
    }
   ],
   "source": [
    "print(f'Reverse of a number is:{reverse}')"
   ]
  },
  {
   "cell_type": "markdown",
   "id": "686898a5",
   "metadata": {},
   "source": [
    "## 6. Solution"
   ]
  },
  {
   "cell_type": "code",
   "execution_count": 74,
   "id": "4d1491e1",
   "metadata": {},
   "outputs": [
    {
     "name": "stdout",
     "output_type": "stream",
     "text": [
      "Enter a number:45\n"
     ]
    }
   ],
   "source": [
    "num = int(input(\"Enter a number:\"))"
   ]
  },
  {
   "cell_type": "code",
   "execution_count": 75,
   "id": "996ff9be",
   "metadata": {},
   "outputs": [
    {
     "name": "stdout",
     "output_type": "stream",
     "text": [
      "Odd\n"
     ]
    }
   ],
   "source": [
    "if num%2==0:\n",
    "    print('Even')\n",
    "else:\n",
    "    print('Odd')"
   ]
  },
  {
   "cell_type": "markdown",
   "id": "53e0fe54",
   "metadata": {},
   "source": [
    "### 7. Solution"
   ]
  },
  {
   "cell_type": "code",
   "execution_count": 83,
   "id": "a7da04b5",
   "metadata": {},
   "outputs": [],
   "source": [
    "import datetime\n",
    "\n",
    "years = datetime.datetime.today()\n",
    "years = years.year"
   ]
  },
  {
   "cell_type": "code",
   "execution_count": 86,
   "id": "5322d1f6",
   "metadata": {},
   "outputs": [],
   "source": [
    "years=400"
   ]
  },
  {
   "cell_type": "code",
   "execution_count": 88,
   "id": "d8c53c10",
   "metadata": {},
   "outputs": [
    {
     "name": "stdout",
     "output_type": "stream",
     "text": [
      "It is a leap year!\n"
     ]
    }
   ],
   "source": [
    "if years%4==0 and (years%100!=0 or years%400 ==0):\n",
    "    print('It is a leap year!')\n",
    "else:\n",
    "    print('It is not a leap year!')"
   ]
  },
  {
   "cell_type": "markdown",
   "id": "404b9585",
   "metadata": {},
   "source": [
    "## 8. Solution"
   ]
  },
  {
   "cell_type": "code",
   "execution_count": 103,
   "id": "61b463a8",
   "metadata": {},
   "outputs": [
    {
     "name": "stdout",
     "output_type": "stream",
     "text": [
      "Enter the 2D-coordinates seperated by commas:23,45\n",
      "Enter the 2D-coordinates seperated by commas:45,67\n"
     ]
    }
   ],
   "source": [
    "first_cordinates = input('Enter the 2D-coordinates seperated by commas:')\n",
    "second_cordinates = input('Enter the 2D-coordinates seperated by commas:')"
   ]
  },
  {
   "cell_type": "code",
   "execution_count": 104,
   "id": "a93168ca",
   "metadata": {},
   "outputs": [],
   "source": [
    "node1 = first_cordinates.split(',')\n",
    "node2 = second_cordinates.split(',')"
   ]
  },
  {
   "cell_type": "code",
   "execution_count": 105,
   "id": "18de6156",
   "metadata": {},
   "outputs": [],
   "source": [
    "x1,y1 = node1\n",
    "x2,y2 = node2"
   ]
  },
  {
   "cell_type": "code",
   "execution_count": 106,
   "id": "e409f885",
   "metadata": {},
   "outputs": [],
   "source": [
    "x1 = int(x1)\n",
    "x2 = int(x2)\n",
    "y1 = int(y1)\n",
    "y2 = int(y2)"
   ]
  },
  {
   "cell_type": "code",
   "execution_count": 107,
   "id": "a7ca713c",
   "metadata": {},
   "outputs": [],
   "source": [
    "import math"
   ]
  },
  {
   "cell_type": "code",
   "execution_count": 108,
   "id": "ee2e6920",
   "metadata": {},
   "outputs": [],
   "source": [
    "euclidiean_distance = int(math.sqrt((x2-x1)*(x2-x1) + (y2-y1)*(y2-y1)))"
   ]
  },
  {
   "cell_type": "code",
   "execution_count": 109,
   "id": "6d62f550",
   "metadata": {},
   "outputs": [
    {
     "data": {
      "text/plain": [
       "31"
      ]
     },
     "execution_count": 109,
     "metadata": {},
     "output_type": "execute_result"
    }
   ],
   "source": [
    "euclidiean_distance"
   ]
  },
  {
   "cell_type": "markdown",
   "id": "2819680e",
   "metadata": {},
   "source": [
    "## 9. Solution"
   ]
  },
  {
   "cell_type": "code",
   "execution_count": 114,
   "id": "d4cf9e7b",
   "metadata": {},
   "outputs": [
    {
     "name": "stdout",
     "output_type": "stream",
     "text": [
      "Enter a three numbers seperated by comma:23,346,45\n"
     ]
    }
   ],
   "source": [
    "numbers = input('Enter a three numbers seperated by comma:')"
   ]
  },
  {
   "cell_type": "code",
   "execution_count": 115,
   "id": "8ae3bf70",
   "metadata": {},
   "outputs": [],
   "source": [
    "numbers = numbers.split(',')"
   ]
  },
  {
   "cell_type": "code",
   "execution_count": null,
   "id": "1756dc41",
   "metadata": {},
   "outputs": [],
   "source": [
    "num1.num2,num3 = number"
   ]
  },
  {
   "cell_type": "code",
   "execution_count": 116,
   "id": "b1d969d3",
   "metadata": {},
   "outputs": [],
   "source": [
    "num1 = int(num1)\n",
    "num2 = int(num2)\n",
    "num3 = int(num3)"
   ]
  },
  {
   "cell_type": "code",
   "execution_count": 118,
   "id": "33b45037",
   "metadata": {},
   "outputs": [
    {
     "name": "stdout",
     "output_type": "stream",
     "text": [
      "Triangles can be formed!\n"
     ]
    }
   ],
   "source": [
    "sum_num = num1+num2+num3\n",
    "if sum_num<180:\n",
    "    print(\"Triangles can be formed!\")\n",
    "else:\n",
    "    print(\"Triangles can't be formed!\")"
   ]
  },
  {
   "cell_type": "code",
   "execution_count": null,
   "id": "1b5286f1",
   "metadata": {},
   "outputs": [],
   "source": []
  }
 ],
 "metadata": {
  "kernelspec": {
   "display_name": "Python 3 (ipykernel)",
   "language": "python",
   "name": "python3"
  },
  "language_info": {
   "codemirror_mode": {
    "name": "ipython",
    "version": 3
   },
   "file_extension": ".py",
   "mimetype": "text/x-python",
   "name": "python",
   "nbconvert_exporter": "python",
   "pygments_lexer": "ipython3",
   "version": "3.10.9"
  }
 },
 "nbformat": 4,
 "nbformat_minor": 5
}
